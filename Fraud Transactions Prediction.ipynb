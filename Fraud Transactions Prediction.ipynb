{
 "cells": [
  {
   "cell_type": "markdown",
   "metadata": {
    "colab_type": "text",
    "id": "view-in-github"
   },
   "source": [
    "<a href=\"https://colab.research.google.com/github/roshank1605A04/Fraud-Detection-in-Online-Transactions/blob/master/Fraud_detection_in_financial_payment_services.ipynb\" target=\"_parent\"><img src=\"https://colab.research.google.com/assets/colab-badge.svg\" alt=\"Open In Colab\"/></a>"
   ]
  },
  {
   "cell_type": "code",
   "execution_count": 1,
   "metadata": {
    "colab": {},
    "colab_type": "code",
    "id": "9SW6U0SvYChM"
   },
   "outputs": [],
   "source": [
    "#Importing Libraries\n",
    "import numpy as np\n",
    "import pandas as pd\n",
    "\n",
    "import matplotlib.pyplot as plt\n",
    "import seaborn as sns\n"
   ]
  },
  {
   "cell_type": "code",
   "execution_count": 2,
   "metadata": {
    "colab": {
     "base_uri": "https://localhost:8080/",
     "height": 68
    },
    "colab_type": "code",
    "id": "TZME7Dc-YT3m",
    "outputId": "78207368-89c7-410c-d39f-1312b67eed70"
   },
   "outputs": [
    {
     "name": "stdout",
     "output_type": "stream",
     "text": [
      "(6362620, 11)\n"
     ]
    }
   ],
   "source": [
    "#Read the data\n",
    "data = pd.read_csv(r\"E:\\Project_Python\\Fraudulent Transaction Prediction\\Fraud.csv\")\n",
    "\n",
    "print(data.shape)"
   ]
  },
  {
   "cell_type": "code",
   "execution_count": 3,
   "metadata": {
    "colab": {
     "base_uri": "https://localhost:8080/",
     "height": 514
    },
    "colab_type": "code",
    "id": "1ciAPU4JYdJG",
    "outputId": "912a372d-2f74-45a0-e471-b110575856d9"
   },
   "outputs": [
    {
     "data": {
      "text/html": [
       "<div>\n",
       "<style scoped>\n",
       "    .dataframe tbody tr th:only-of-type {\n",
       "        vertical-align: middle;\n",
       "    }\n",
       "\n",
       "    .dataframe tbody tr th {\n",
       "        vertical-align: top;\n",
       "    }\n",
       "\n",
       "    .dataframe thead th {\n",
       "        text-align: right;\n",
       "    }\n",
       "</style>\n",
       "<table border=\"1\" class=\"dataframe\">\n",
       "  <thead>\n",
       "    <tr style=\"text-align: right;\">\n",
       "      <th></th>\n",
       "      <th>step</th>\n",
       "      <th>type</th>\n",
       "      <th>amount</th>\n",
       "      <th>nameOrig</th>\n",
       "      <th>oldbalanceOrg</th>\n",
       "      <th>newbalanceOrig</th>\n",
       "      <th>nameDest</th>\n",
       "      <th>oldbalanceDest</th>\n",
       "      <th>newbalanceDest</th>\n",
       "      <th>isFraud</th>\n",
       "      <th>isFlaggedFraud</th>\n",
       "    </tr>\n",
       "  </thead>\n",
       "  <tbody>\n",
       "    <tr>\n",
       "      <th>4988415</th>\n",
       "      <td>352</td>\n",
       "      <td>PAYMENT</td>\n",
       "      <td>10830.58</td>\n",
       "      <td>C1147781359</td>\n",
       "      <td>158766.25</td>\n",
       "      <td>147935.66</td>\n",
       "      <td>M1013930165</td>\n",
       "      <td>0.00</td>\n",
       "      <td>0.00</td>\n",
       "      <td>0</td>\n",
       "      <td>0</td>\n",
       "    </tr>\n",
       "    <tr>\n",
       "      <th>627624</th>\n",
       "      <td>34</td>\n",
       "      <td>CASH_OUT</td>\n",
       "      <td>115390.26</td>\n",
       "      <td>C1851424874</td>\n",
       "      <td>102.00</td>\n",
       "      <td>0.00</td>\n",
       "      <td>C533511048</td>\n",
       "      <td>513426.49</td>\n",
       "      <td>628816.75</td>\n",
       "      <td>0</td>\n",
       "      <td>0</td>\n",
       "    </tr>\n",
       "    <tr>\n",
       "      <th>3152076</th>\n",
       "      <td>237</td>\n",
       "      <td>PAYMENT</td>\n",
       "      <td>13744.47</td>\n",
       "      <td>C1287778783</td>\n",
       "      <td>8896.00</td>\n",
       "      <td>0.00</td>\n",
       "      <td>M1675807406</td>\n",
       "      <td>0.00</td>\n",
       "      <td>0.00</td>\n",
       "      <td>0</td>\n",
       "      <td>0</td>\n",
       "    </tr>\n",
       "    <tr>\n",
       "      <th>3818459</th>\n",
       "      <td>281</td>\n",
       "      <td>CASH_IN</td>\n",
       "      <td>366969.11</td>\n",
       "      <td>C921552258</td>\n",
       "      <td>744875.34</td>\n",
       "      <td>1111844.45</td>\n",
       "      <td>C2137914372</td>\n",
       "      <td>4042493.55</td>\n",
       "      <td>3675524.45</td>\n",
       "      <td>0</td>\n",
       "      <td>0</td>\n",
       "    </tr>\n",
       "    <tr>\n",
       "      <th>4876778</th>\n",
       "      <td>348</td>\n",
       "      <td>CASH_OUT</td>\n",
       "      <td>76629.47</td>\n",
       "      <td>C400314727</td>\n",
       "      <td>0.00</td>\n",
       "      <td>0.00</td>\n",
       "      <td>C1175093171</td>\n",
       "      <td>760792.88</td>\n",
       "      <td>837422.35</td>\n",
       "      <td>0</td>\n",
       "      <td>0</td>\n",
       "    </tr>\n",
       "    <tr>\n",
       "      <th>5784179</th>\n",
       "      <td>400</td>\n",
       "      <td>CASH_OUT</td>\n",
       "      <td>178588.03</td>\n",
       "      <td>C237249164</td>\n",
       "      <td>0.00</td>\n",
       "      <td>0.00</td>\n",
       "      <td>C488895196</td>\n",
       "      <td>285976.99</td>\n",
       "      <td>464565.02</td>\n",
       "      <td>0</td>\n",
       "      <td>0</td>\n",
       "    </tr>\n",
       "    <tr>\n",
       "      <th>2199878</th>\n",
       "      <td>185</td>\n",
       "      <td>PAYMENT</td>\n",
       "      <td>12278.24</td>\n",
       "      <td>C333359883</td>\n",
       "      <td>406834.36</td>\n",
       "      <td>394556.12</td>\n",
       "      <td>M332626778</td>\n",
       "      <td>0.00</td>\n",
       "      <td>0.00</td>\n",
       "      <td>0</td>\n",
       "      <td>0</td>\n",
       "    </tr>\n",
       "    <tr>\n",
       "      <th>4927845</th>\n",
       "      <td>350</td>\n",
       "      <td>PAYMENT</td>\n",
       "      <td>3399.89</td>\n",
       "      <td>C2074107565</td>\n",
       "      <td>0.00</td>\n",
       "      <td>0.00</td>\n",
       "      <td>M167035878</td>\n",
       "      <td>0.00</td>\n",
       "      <td>0.00</td>\n",
       "      <td>0</td>\n",
       "      <td>0</td>\n",
       "    </tr>\n",
       "    <tr>\n",
       "      <th>3478223</th>\n",
       "      <td>258</td>\n",
       "      <td>PAYMENT</td>\n",
       "      <td>3650.44</td>\n",
       "      <td>C1579277745</td>\n",
       "      <td>267952.33</td>\n",
       "      <td>264301.89</td>\n",
       "      <td>M1842723261</td>\n",
       "      <td>0.00</td>\n",
       "      <td>0.00</td>\n",
       "      <td>0</td>\n",
       "      <td>0</td>\n",
       "    </tr>\n",
       "    <tr>\n",
       "      <th>687015</th>\n",
       "      <td>36</td>\n",
       "      <td>PAYMENT</td>\n",
       "      <td>42327.44</td>\n",
       "      <td>C9474902</td>\n",
       "      <td>316502.60</td>\n",
       "      <td>274175.16</td>\n",
       "      <td>M387265162</td>\n",
       "      <td>0.00</td>\n",
       "      <td>0.00</td>\n",
       "      <td>0</td>\n",
       "      <td>0</td>\n",
       "    </tr>\n",
       "    <tr>\n",
       "      <th>3075197</th>\n",
       "      <td>235</td>\n",
       "      <td>CASH_OUT</td>\n",
       "      <td>206618.52</td>\n",
       "      <td>C800029299</td>\n",
       "      <td>0.00</td>\n",
       "      <td>0.00</td>\n",
       "      <td>C615418098</td>\n",
       "      <td>2945448.18</td>\n",
       "      <td>3152066.71</td>\n",
       "      <td>0</td>\n",
       "      <td>0</td>\n",
       "    </tr>\n",
       "    <tr>\n",
       "      <th>4297564</th>\n",
       "      <td>307</td>\n",
       "      <td>TRANSFER</td>\n",
       "      <td>1306204.46</td>\n",
       "      <td>C159463598</td>\n",
       "      <td>9277.11</td>\n",
       "      <td>0.00</td>\n",
       "      <td>C1797461856</td>\n",
       "      <td>2087205.69</td>\n",
       "      <td>3393410.14</td>\n",
       "      <td>0</td>\n",
       "      <td>0</td>\n",
       "    </tr>\n",
       "    <tr>\n",
       "      <th>5994528</th>\n",
       "      <td>422</td>\n",
       "      <td>CASH_IN</td>\n",
       "      <td>256002.26</td>\n",
       "      <td>C1669492108</td>\n",
       "      <td>26615.00</td>\n",
       "      <td>282617.26</td>\n",
       "      <td>C1960508726</td>\n",
       "      <td>88067.49</td>\n",
       "      <td>0.00</td>\n",
       "      <td>0</td>\n",
       "      <td>0</td>\n",
       "    </tr>\n",
       "    <tr>\n",
       "      <th>2387673</th>\n",
       "      <td>201</td>\n",
       "      <td>CASH_OUT</td>\n",
       "      <td>198554.98</td>\n",
       "      <td>C1639757865</td>\n",
       "      <td>2024.00</td>\n",
       "      <td>0.00</td>\n",
       "      <td>C503517341</td>\n",
       "      <td>110518.79</td>\n",
       "      <td>309073.77</td>\n",
       "      <td>0</td>\n",
       "      <td>0</td>\n",
       "    </tr>\n",
       "    <tr>\n",
       "      <th>2906502</th>\n",
       "      <td>228</td>\n",
       "      <td>CASH_OUT</td>\n",
       "      <td>79111.30</td>\n",
       "      <td>C2047251577</td>\n",
       "      <td>48699.00</td>\n",
       "      <td>0.00</td>\n",
       "      <td>C1151448208</td>\n",
       "      <td>175132.10</td>\n",
       "      <td>254243.40</td>\n",
       "      <td>0</td>\n",
       "      <td>0</td>\n",
       "    </tr>\n",
       "  </tbody>\n",
       "</table>\n",
       "</div>"
      ],
      "text/plain": [
       "         step      type      amount     nameOrig  oldbalanceOrg  \\\n",
       "4988415   352   PAYMENT    10830.58  C1147781359      158766.25   \n",
       "627624     34  CASH_OUT   115390.26  C1851424874         102.00   \n",
       "3152076   237   PAYMENT    13744.47  C1287778783        8896.00   \n",
       "3818459   281   CASH_IN   366969.11   C921552258      744875.34   \n",
       "4876778   348  CASH_OUT    76629.47   C400314727           0.00   \n",
       "5784179   400  CASH_OUT   178588.03   C237249164           0.00   \n",
       "2199878   185   PAYMENT    12278.24   C333359883      406834.36   \n",
       "4927845   350   PAYMENT     3399.89  C2074107565           0.00   \n",
       "3478223   258   PAYMENT     3650.44  C1579277745      267952.33   \n",
       "687015     36   PAYMENT    42327.44     C9474902      316502.60   \n",
       "3075197   235  CASH_OUT   206618.52   C800029299           0.00   \n",
       "4297564   307  TRANSFER  1306204.46   C159463598        9277.11   \n",
       "5994528   422   CASH_IN   256002.26  C1669492108       26615.00   \n",
       "2387673   201  CASH_OUT   198554.98  C1639757865        2024.00   \n",
       "2906502   228  CASH_OUT    79111.30  C2047251577       48699.00   \n",
       "\n",
       "         newbalanceOrig     nameDest  oldbalanceDest  newbalanceDest  isFraud  \\\n",
       "4988415       147935.66  M1013930165            0.00            0.00        0   \n",
       "627624             0.00   C533511048       513426.49       628816.75        0   \n",
       "3152076            0.00  M1675807406            0.00            0.00        0   \n",
       "3818459      1111844.45  C2137914372      4042493.55      3675524.45        0   \n",
       "4876778            0.00  C1175093171       760792.88       837422.35        0   \n",
       "5784179            0.00   C488895196       285976.99       464565.02        0   \n",
       "2199878       394556.12   M332626778            0.00            0.00        0   \n",
       "4927845            0.00   M167035878            0.00            0.00        0   \n",
       "3478223       264301.89  M1842723261            0.00            0.00        0   \n",
       "687015        274175.16   M387265162            0.00            0.00        0   \n",
       "3075197            0.00   C615418098      2945448.18      3152066.71        0   \n",
       "4297564            0.00  C1797461856      2087205.69      3393410.14        0   \n",
       "5994528       282617.26  C1960508726        88067.49            0.00        0   \n",
       "2387673            0.00   C503517341       110518.79       309073.77        0   \n",
       "2906502            0.00  C1151448208       175132.10       254243.40        0   \n",
       "\n",
       "         isFlaggedFraud  \n",
       "4988415               0  \n",
       "627624                0  \n",
       "3152076               0  \n",
       "3818459               0  \n",
       "4876778               0  \n",
       "5784179               0  \n",
       "2199878               0  \n",
       "4927845               0  \n",
       "3478223               0  \n",
       "687015                0  \n",
       "3075197               0  \n",
       "4297564               0  \n",
       "5994528               0  \n",
       "2387673               0  \n",
       "2906502               0  "
      ]
     },
     "execution_count": 3,
     "metadata": {},
     "output_type": "execute_result"
    }
   ],
   "source": [
    "data.sample(15)"
   ]
  },
  {
   "cell_type": "code",
   "execution_count": 4,
   "metadata": {
    "colab": {
     "base_uri": "https://localhost:8080/",
     "height": 289
    },
    "colab_type": "code",
    "id": "5NfdLQ2zY7V2",
    "outputId": "437260b9-aaef-4792-cc66-bd27010466f7"
   },
   "outputs": [
    {
     "name": "stdout",
     "output_type": "stream",
     "text": [
      "<class 'pandas.core.frame.DataFrame'>\n",
      "RangeIndex: 6362620 entries, 0 to 6362619\n",
      "Data columns (total 11 columns):\n",
      " #   Column          Dtype  \n",
      "---  ------          -----  \n",
      " 0   step            int64  \n",
      " 1   type            object \n",
      " 2   amount          float64\n",
      " 3   nameOrig        object \n",
      " 4   oldbalanceOrg   float64\n",
      " 5   newbalanceOrig  float64\n",
      " 6   nameDest        object \n",
      " 7   oldbalanceDest  float64\n",
      " 8   newbalanceDest  float64\n",
      " 9   isFraud         int64  \n",
      " 10  isFlaggedFraud  int64  \n",
      "dtypes: float64(5), int64(3), object(3)\n",
      "memory usage: 534.0+ MB\n"
     ]
    }
   ],
   "source": [
    "# getting the information related to data\n",
    "\n",
    "data.info()"
   ]
  },
  {
   "cell_type": "code",
   "execution_count": 5,
   "metadata": {
    "colab": {
     "base_uri": "https://localhost:8080/",
     "height": 297
    },
    "colab_type": "code",
    "id": "GYdQB-qUY9iR",
    "outputId": "2c81494a-5b95-44a7-f07a-1bccbbc651d2"
   },
   "outputs": [
    {
     "data": {
      "text/html": [
       "<div>\n",
       "<style scoped>\n",
       "    .dataframe tbody tr th:only-of-type {\n",
       "        vertical-align: middle;\n",
       "    }\n",
       "\n",
       "    .dataframe tbody tr th {\n",
       "        vertical-align: top;\n",
       "    }\n",
       "\n",
       "    .dataframe thead th {\n",
       "        text-align: right;\n",
       "    }\n",
       "</style>\n",
       "<table border=\"1\" class=\"dataframe\">\n",
       "  <thead>\n",
       "    <tr style=\"text-align: right;\">\n",
       "      <th></th>\n",
       "      <th>step</th>\n",
       "      <th>amount</th>\n",
       "      <th>oldbalanceOrg</th>\n",
       "      <th>newbalanceOrig</th>\n",
       "      <th>oldbalanceDest</th>\n",
       "      <th>newbalanceDest</th>\n",
       "      <th>isFraud</th>\n",
       "      <th>isFlaggedFraud</th>\n",
       "    </tr>\n",
       "  </thead>\n",
       "  <tbody>\n",
       "    <tr>\n",
       "      <th>count</th>\n",
       "      <td>6.362620e+06</td>\n",
       "      <td>6.362620e+06</td>\n",
       "      <td>6.362620e+06</td>\n",
       "      <td>6.362620e+06</td>\n",
       "      <td>6.362620e+06</td>\n",
       "      <td>6.362620e+06</td>\n",
       "      <td>6.362620e+06</td>\n",
       "      <td>6.362620e+06</td>\n",
       "    </tr>\n",
       "    <tr>\n",
       "      <th>mean</th>\n",
       "      <td>2.433972e+02</td>\n",
       "      <td>1.798619e+05</td>\n",
       "      <td>8.338831e+05</td>\n",
       "      <td>8.551137e+05</td>\n",
       "      <td>1.100702e+06</td>\n",
       "      <td>1.224996e+06</td>\n",
       "      <td>1.290820e-03</td>\n",
       "      <td>2.514687e-06</td>\n",
       "    </tr>\n",
       "    <tr>\n",
       "      <th>std</th>\n",
       "      <td>1.423320e+02</td>\n",
       "      <td>6.038582e+05</td>\n",
       "      <td>2.888243e+06</td>\n",
       "      <td>2.924049e+06</td>\n",
       "      <td>3.399180e+06</td>\n",
       "      <td>3.674129e+06</td>\n",
       "      <td>3.590480e-02</td>\n",
       "      <td>1.585775e-03</td>\n",
       "    </tr>\n",
       "    <tr>\n",
       "      <th>min</th>\n",
       "      <td>1.000000e+00</td>\n",
       "      <td>0.000000e+00</td>\n",
       "      <td>0.000000e+00</td>\n",
       "      <td>0.000000e+00</td>\n",
       "      <td>0.000000e+00</td>\n",
       "      <td>0.000000e+00</td>\n",
       "      <td>0.000000e+00</td>\n",
       "      <td>0.000000e+00</td>\n",
       "    </tr>\n",
       "    <tr>\n",
       "      <th>25%</th>\n",
       "      <td>1.560000e+02</td>\n",
       "      <td>1.338957e+04</td>\n",
       "      <td>0.000000e+00</td>\n",
       "      <td>0.000000e+00</td>\n",
       "      <td>0.000000e+00</td>\n",
       "      <td>0.000000e+00</td>\n",
       "      <td>0.000000e+00</td>\n",
       "      <td>0.000000e+00</td>\n",
       "    </tr>\n",
       "    <tr>\n",
       "      <th>50%</th>\n",
       "      <td>2.390000e+02</td>\n",
       "      <td>7.487194e+04</td>\n",
       "      <td>1.420800e+04</td>\n",
       "      <td>0.000000e+00</td>\n",
       "      <td>1.327057e+05</td>\n",
       "      <td>2.146614e+05</td>\n",
       "      <td>0.000000e+00</td>\n",
       "      <td>0.000000e+00</td>\n",
       "    </tr>\n",
       "    <tr>\n",
       "      <th>75%</th>\n",
       "      <td>3.350000e+02</td>\n",
       "      <td>2.087215e+05</td>\n",
       "      <td>1.073152e+05</td>\n",
       "      <td>1.442584e+05</td>\n",
       "      <td>9.430367e+05</td>\n",
       "      <td>1.111909e+06</td>\n",
       "      <td>0.000000e+00</td>\n",
       "      <td>0.000000e+00</td>\n",
       "    </tr>\n",
       "    <tr>\n",
       "      <th>max</th>\n",
       "      <td>7.430000e+02</td>\n",
       "      <td>9.244552e+07</td>\n",
       "      <td>5.958504e+07</td>\n",
       "      <td>4.958504e+07</td>\n",
       "      <td>3.560159e+08</td>\n",
       "      <td>3.561793e+08</td>\n",
       "      <td>1.000000e+00</td>\n",
       "      <td>1.000000e+00</td>\n",
       "    </tr>\n",
       "  </tbody>\n",
       "</table>\n",
       "</div>"
      ],
      "text/plain": [
       "               step        amount  oldbalanceOrg  newbalanceOrig  \\\n",
       "count  6.362620e+06  6.362620e+06   6.362620e+06    6.362620e+06   \n",
       "mean   2.433972e+02  1.798619e+05   8.338831e+05    8.551137e+05   \n",
       "std    1.423320e+02  6.038582e+05   2.888243e+06    2.924049e+06   \n",
       "min    1.000000e+00  0.000000e+00   0.000000e+00    0.000000e+00   \n",
       "25%    1.560000e+02  1.338957e+04   0.000000e+00    0.000000e+00   \n",
       "50%    2.390000e+02  7.487194e+04   1.420800e+04    0.000000e+00   \n",
       "75%    3.350000e+02  2.087215e+05   1.073152e+05    1.442584e+05   \n",
       "max    7.430000e+02  9.244552e+07   5.958504e+07    4.958504e+07   \n",
       "\n",
       "       oldbalanceDest  newbalanceDest       isFraud  isFlaggedFraud  \n",
       "count    6.362620e+06    6.362620e+06  6.362620e+06    6.362620e+06  \n",
       "mean     1.100702e+06    1.224996e+06  1.290820e-03    2.514687e-06  \n",
       "std      3.399180e+06    3.674129e+06  3.590480e-02    1.585775e-03  \n",
       "min      0.000000e+00    0.000000e+00  0.000000e+00    0.000000e+00  \n",
       "25%      0.000000e+00    0.000000e+00  0.000000e+00    0.000000e+00  \n",
       "50%      1.327057e+05    2.146614e+05  0.000000e+00    0.000000e+00  \n",
       "75%      9.430367e+05    1.111909e+06  0.000000e+00    0.000000e+00  \n",
       "max      3.560159e+08    3.561793e+08  1.000000e+00    1.000000e+00  "
      ]
     },
     "execution_count": 5,
     "metadata": {},
     "output_type": "execute_result"
    }
   ],
   "source": [
    "#describing the data\n",
    "\n",
    "data.describe()"
   ]
  },
  {
   "cell_type": "code",
   "execution_count": 6,
   "metadata": {
    "colab": {
     "base_uri": "https://localhost:8080/",
     "height": 68
    },
    "colab_type": "code",
    "id": "NKho3e1daDaf",
    "outputId": "2598563c-77fe-494f-dc47-269dccae4887"
   },
   "outputs": [
    {
     "data": {
      "text/plain": [
       "0    6354407\n",
       "1       8213\n",
       "Name: isFraud, dtype: int64"
      ]
     },
     "execution_count": 6,
     "metadata": {},
     "output_type": "execute_result"
    }
   ],
   "source": [
    "#checking value count of Fraudulent transactions\n",
    "\n",
    "data['isFraud'].value_counts()"
   ]
  },
  {
   "cell_type": "code",
   "execution_count": 52,
   "metadata": {
    "colab": {
     "base_uri": "https://localhost:8080/",
     "height": 596
    },
    "colab_type": "code",
    "id": "dJmgFe13btOE",
    "outputId": "e96ed4e3-5375-4207-cac4-dcf7d216a595"
   },
   "outputs": [
    {
     "data": {
      "image/png": "[encoded data removed]",
      "text/plain": [
       "<Figure size 720x720 with 1 Axes>"
      ]
     },
     "metadata": {},
     "output_type": "display_data"
    }
   ],
   "source": [
    "labels = ['Not a Fraud', 'Fraud']\n",
    "colors = ['green', 'red']\n",
    "size = [6354407, 8213]\n",
    "explode = [0.1, 0.21]\n",
    "\n",
    "plt.rcParams['figure.figsize'] = (10, 10)\n",
    "plt.pie(size, labels = labels, colors = colors, explode = explode, shadow = True)\n",
    "plt.axis('off')\n",
    "plt.title('A pie chart representing share of frauds amongst the customers',fontsize = 20)\n",
    "plt.legend()\n",
    "plt.show()"
   ]
  },
  {
   "cell_type": "code",
   "execution_count": 8,
   "metadata": {
    "colab": {
     "base_uri": "https://localhost:8080/",
     "height": 68
    },
    "colab_type": "code",
    "id": "FwR5JXB2aNHi",
    "outputId": "f5555d0a-e2b7-48ea-f9d9-5d8cf34fb69a"
   },
   "outputs": [
    {
     "data": {
      "text/plain": [
       "0    6362604\n",
       "1         16\n",
       "Name: isFlaggedFraud, dtype: int64"
      ]
     },
     "execution_count": 8,
     "metadata": {},
     "output_type": "execute_result"
    }
   ],
   "source": [
    "data['isFlaggedFraud'].value_counts()"
   ]
  },
  {
   "cell_type": "code",
   "execution_count": 53,
   "metadata": {
    "colab": {
     "base_uri": "https://localhost:8080/",
     "height": 596
    },
    "colab_type": "code",
    "id": "ONJTZw-zctFB",
    "outputId": "45dd4a7f-44ed-41d1-ce8d-1908e8667320"
   },
   "outputs": [
    {
     "data": {
      "image/png": "[encoded data removed]",
      "text/plain": [
       "<Figure size 720x720 with 1 Axes>"
      ]
     },
     "metadata": {},
     "output_type": "display_data"
    }
   ],
   "source": [
    "labels = ['Not a Flagged Fraud', 'Flagged Fraud']\n",
    "colors = ['yellow', 'brown']\n",
    "size = [6354407, 8213]\n",
    "explode = [0.1, 0.21]\n",
    "\n",
    "plt.rcParams['figure.figsize'] = (10, 10)\n",
    "plt.pie(size, labels = labels, colors = colors, explode = explode, shadow = True)\n",
    "plt.axis('off')\n",
    "plt.title('A pie chart representing share of flagged frauds amongst the customers',fontsize = 20)\n",
    "plt.legend()\n",
    "plt.show()"
   ]
  },
  {
   "cell_type": "code",
   "execution_count": 10,
   "metadata": {
    "colab": {
     "base_uri": "https://localhost:8080/",
     "height": 119
    },
    "colab_type": "code",
    "id": "b9T9R8Claour",
    "outputId": "be1f549d-7095-498f-c40b-bf17c612df10"
   },
   "outputs": [
    {
     "data": {
      "text/plain": [
       "CASH_OUT    2237500\n",
       "PAYMENT     2151495\n",
       "CASH_IN     1399284\n",
       "TRANSFER     532909\n",
       "DEBIT         41432\n",
       "Name: type, dtype: int64"
      ]
     },
     "execution_count": 10,
     "metadata": {},
     "output_type": "execute_result"
    }
   ],
   "source": [
    "data['type'].value_counts()"
   ]
  },
  {
   "cell_type": "code",
   "execution_count": 11,
   "metadata": {
    "colab": {
     "base_uri": "https://localhost:8080/",
     "height": 596
    },
    "colab_type": "code",
    "id": "u1OHjHgndHod",
    "outputId": "9871959e-b1c9-49df-9abd-2de0d4475232"
   },
   "outputs": [
    {
     "data": {
      "image/png": "[encoded data removed]",
      "text/plain": [
       "<Figure size 720x720 with 1 Axes>"
      ]
     },
     "metadata": {},
     "output_type": "display_data"
    }
   ],
   "source": [
    "labels = ['Cash-out', 'Payment', 'Cash-in', 'Transfer', 'Debit']\n",
    "size = [2237500, 2151495, 1399284, 532909, 41432]\n",
    "colors = ['pink', 'lightgreen', 'lightblue', 'orange', 'yellow']\n",
    "explode = [0.1, 0.1, 0.1, 0.1, 0.1]\n",
    "\n",
    "plt.rcParams['figure.figsize'] = (10, 10)\n",
    "plt.pie(size, colors = colors, explode = explode, labels = labels, shadow = True)\n",
    "plt.title('A pie chart representing different types of money transactions', fontsize = 20)\n",
    "plt.axis('off')\n",
    "plt.legend()\n",
    "plt.show()"
   ]
  },
  {
   "cell_type": "code",
   "execution_count": 12,
   "metadata": {
    "colab": {
     "base_uri": "https://localhost:8080/",
     "height": 34
    },
    "colab_type": "code",
    "id": "F9SzfpVtblOq",
    "outputId": "dac58ac9-ce25-466b-a1a3-59af9a03f8b7"
   },
   "outputs": [
    {
     "name": "stdout",
     "output_type": "stream",
     "text": [
      "The no. of different steps involved in transactions are : 428\n"
     ]
    }
   ],
   "source": [
    "# checking the different types of steps involved in transactions\n",
    "\n",
    "x = data['step'].value_counts().nunique()\n",
    "\n",
    "# printing the result\n",
    "print(\"The no. of different steps involved in transactions are :\", x)"
   ]
  },
  {
   "cell_type": "code",
   "execution_count": 13,
   "metadata": {
    "colab": {
     "base_uri": "https://localhost:8080/",
     "height": 514
    },
    "colab_type": "code",
    "id": "2er8JIaysTho",
    "outputId": "f759a623-3349-4c65-86e4-76afa6f13740"
   },
   "outputs": [
    {
     "name": "stderr",
     "output_type": "stream",
     "text": [
      "C:\\Users\\Chinmay.CHINMAY\\anaconda3\\lib\\site-packages\\seaborn\\distributions.py:2557: FutureWarning: `distplot` is a deprecated function and will be removed in a future version. Please adapt your code to use either `displot` (a figure-level function with similar flexibility) or `histplot` (an axes-level function for histograms).\n",
      "  warnings.warn(msg, FutureWarning)\n"
     ]
    },
    {
     "data": {
      "image/png": "[encoded data removed]",
      "text/plain": [
       "<Figure size 1008x504 with 1 Axes>"
      ]
     },
     "metadata": {
      "needs_background": "light"
     },
     "output_type": "display_data"
    }
   ],
   "source": [
    "# setting the size of the figure\n",
    "plt.rcParams['figure.figsize'] =(14, 7)\n",
    "\n",
    "# importing norm\n",
    "from scipy.stats import norm\n",
    "\n",
    "sns.distplot(data.step, fit = norm, kde = False)\n",
    "plt.title('Distribution Plot for steps', fontsize = 20)\n",
    "plt.xlabel('Step', fontsize = 10)\n",
    "plt.show()"
   ]
  },
  {
   "cell_type": "code",
   "execution_count": 16,
   "metadata": {
    "colab": {
     "base_uri": "https://localhost:8080/",
     "height": 433
    },
    "colab_type": "code",
    "id": "TMUDNZDPvKCS",
    "outputId": "b1882694-8d1b-489e-fdc2-7076b1202d1c"
   },
   "outputs": [
    {
     "name": "stderr",
     "output_type": "stream",
     "text": [
      "C:\\Users\\Chinmay.CHINMAY\\anaconda3\\lib\\site-packages\\seaborn\\distributions.py:2557: FutureWarning: `distplot` is a deprecated function and will be removed in a future version. Please adapt your code to use either `displot` (a figure-level function with similar flexibility) or `histplot` (an axes-level function for histograms).\n",
      "  warnings.warn(msg, FutureWarning)\n"
     ]
    },
    {
     "data": {
      "image/png": "[encoded data removed]",
      "text/plain": [
       "<Figure size 1008x504 with 1 Axes>"
      ]
     },
     "metadata": {},
     "output_type": "display_data"
    }
   ],
   "source": [
    "# setting thesze of the figure\n",
    "plt.rcParams['figure.figsize'] =(14, 7)\n",
    "\n",
    "# setting the style in seaborn\n",
    "sns.set(style = 'dark', palette = 'colorblind')\n",
    "\n",
    "#plotting a dist plot\n",
    "ax = sns.distplot(data.amount)\n",
    "ax.set_title(label = 'Distribution Plot for amount', fontsize = 20)\n",
    "ax.set_xlabel(xlabel = 'Amount', fontsize = 10)\n",
    "plt.show()"
   ]
  },
  {
   "cell_type": "code",
   "execution_count": 17,
   "metadata": {
    "colab": {
     "base_uri": "https://localhost:8080/",
     "height": 34
    },
    "colab_type": "code",
    "id": "y_IRTieSbRBL",
    "outputId": "77919ac2-9fe5-43e0-d73b-7e8df87cd10c"
   },
   "outputs": [
    {
     "name": "stdout",
     "output_type": "stream",
     "text": [
      "The Types of fraudulent transactions are ['TRANSFER', 'CASH_OUT']\n"
     ]
    }
   ],
   "source": [
    "# finding  out the types of fraudulent transaction types out of all the transaction modes.\n",
    "\n",
    "print('The Types of fraudulent transactions are {}'.format(list(data.loc[data.isFraud == 1].type.drop_duplicates().values)) )"
   ]
  },
  {
   "cell_type": "code",
   "execution_count": 18,
   "metadata": {
    "colab": {
     "base_uri": "https://localhost:8080/",
     "height": 51
    },
    "colab_type": "code",
    "id": "aXc-odaRaznS",
    "outputId": "47c4bbf7-f179-439b-f047-d89ce1083187"
   },
   "outputs": [
    {
     "name": "stdout",
     "output_type": "stream",
     "text": [
      "The number of fraudulent TRANSFERs = 4097\n",
      "The number of fraudulent CASH_OUTs = 4116\n"
     ]
    }
   ],
   "source": [
    "# figuring out the fraud transfer and fraud cash outs\n",
    "dfFraudTransfer = data.loc[(data.isFraud == 1) & (data.type == 'TRANSFER')]\n",
    "dfFraudCashout = data.loc[(data.isFraud == 1) & (data.type == 'CASH_OUT')]\n",
    "\n",
    "\n",
    "#printing the number of fraudulent transfers ans cash outs\n",
    "print ('The number of fraudulent TRANSFERs = {}'.format(len(dfFraudTransfer)))\n",
    "print ('The number of fraudulent CASH_OUTs = {}'.format(len(dfFraudCashout)))"
   ]
  },
  {
   "cell_type": "code",
   "execution_count": 19,
   "metadata": {
    "colab": {
     "base_uri": "https://localhost:8080/",
     "height": 136
    },
    "colab_type": "code",
    "id": "pIgCRMa5cpLo",
    "outputId": "3cd2bb1f-3651-4195-8138-54f601f486b9"
   },
   "outputs": [
    {
     "name": "stdout",
     "output_type": "stream",
     "text": [
      "Transfer Transaction\n",
      "Minimum Transaction : 63.8\n",
      "Maximum Transaction : 10000000.0\n",
      "\n",
      "CASH_OUT Transaction\n",
      "Minimum Transaction : 0.0\n",
      "Maximum Transaction : 10000000.0\n"
     ]
    }
   ],
   "source": [
    "# finding out the max. and min. number of transactions from Transfer and cash out mode when Fraud = 1\n",
    "\n",
    "print(\"Transfer Transaction\")\n",
    "print(\"Minimum Transaction :\", data.loc[(data.isFraud == 1) & (data.type == 'TRANSFER')].amount.min())\n",
    "print(\"Maximum Transaction :\", data.loc[(data.isFraud == 1) & (data.type == 'TRANSFER')].amount.max())\n",
    "\n",
    "print(\"\\nCASH_OUT Transaction\")\n",
    "print(\"Minimum Transaction :\", data.loc[(data.isFraud == 1) & (data.type == 'CASH_OUT')].amount.min())\n",
    "print(\"Maximum Transaction :\", data.loc[(data.isFraud == 1) & (data.type == 'CASH_OUT')].amount.max())"
   ]
  },
  {
   "cell_type": "code",
   "execution_count": 20,
   "metadata": {
    "colab": {
     "base_uri": "https://localhost:8080/",
     "height": 34
    },
    "colab_type": "code",
    "id": "sCyHO7HsYd5g",
    "outputId": "56c11dac-ca58-4824-b19f-88589563bad7"
   },
   "outputs": [
    {
     "name": "stdout",
     "output_type": "stream",
     "text": [
      "The Type of Transaction in which IsFlagged is set : ['TRANSFER']\n"
     ]
    }
   ],
   "source": [
    "#finding out the transactions which are flagged to be fraud\n",
    "\n",
    "print(\"The Type of Transaction in which IsFlagged is set :\", data.loc[data.isFlaggedFraud == 1].type.drop_duplicates().values)\n"
   ]
  },
  {
   "cell_type": "markdown",
   "metadata": {},
   "source": [
    "**We can say that Flagged Transactions are done using TRANSFER mode.**"
   ]
  },
  {
   "cell_type": "code",
   "execution_count": 21,
   "metadata": {
    "colab": {
     "base_uri": "https://localhost:8080/",
     "height": 68
    },
    "colab_type": "code",
    "id": "e4fxRvUNa20S",
    "outputId": "d0c06e76-269d-41a8-dac3-4d22323b4e08"
   },
   "outputs": [
    {
     "name": "stdout",
     "output_type": "stream",
     "text": [
      "The no. of Flagged Fraudulent Transactions : 16\n",
      "Minimum Transaction : 353874.22\n",
      "Maximum Transaction : 10000000.0\n"
     ]
    }
   ],
   "source": [
    "# figuring out the no. of flagged fraudulent transactions\n",
    "FlaggedFraud = data.loc[(data.isFlaggedFraud == 1) & (data.type == 'TRANSFER')]\n",
    "print(\"The no. of Flagged Fraudulent Transactions :\", len(FlaggedFraud))\n",
    "\n",
    "# printing the minimum and maximum transactions done when FlaggedFraud = 1\n",
    "# the Transaction mode being Transfer\n",
    "print(\"Minimum Transaction :\", data.loc[data.isFlaggedFraud == 1].amount.min())\n",
    "print(\"Maximum Transaction :\", data.loc[data.isFlaggedFraud == 1].amount.max())\n"
   ]
  },
  {
   "cell_type": "markdown",
   "metadata": {
    "colab_type": "text",
    "id": "UTIOzYmXOvpA"
   },
   "source": [
    "**Dataset where only Transfer Transactions are mentioned**"
   ]
  },
  {
   "cell_type": "code",
   "execution_count": 23,
   "metadata": {
    "colab": {
     "base_uri": "https://localhost:8080/",
     "height": 359
    },
    "colab_type": "code",
    "id": "eW2pR3M2LMla",
    "outputId": "319228a5-0168-440b-fe25-dc12694b6dfa"
   },
   "outputs": [
    {
     "data": {
      "text/html": [
       "<div>\n",
       "<style scoped>\n",
       "    .dataframe tbody tr th:only-of-type {\n",
       "        vertical-align: middle;\n",
       "    }\n",
       "\n",
       "    .dataframe tbody tr th {\n",
       "        vertical-align: top;\n",
       "    }\n",
       "\n",
       "    .dataframe thead th {\n",
       "        text-align: right;\n",
       "    }\n",
       "</style>\n",
       "<table border=\"1\" class=\"dataframe\">\n",
       "  <thead>\n",
       "    <tr style=\"text-align: right;\">\n",
       "      <th></th>\n",
       "      <th>step</th>\n",
       "      <th>type</th>\n",
       "      <th>amount</th>\n",
       "      <th>nameOrig</th>\n",
       "      <th>oldbalanceOrg</th>\n",
       "      <th>newbalanceOrig</th>\n",
       "      <th>nameDest</th>\n",
       "      <th>oldbalanceDest</th>\n",
       "      <th>newbalanceDest</th>\n",
       "      <th>isFraud</th>\n",
       "      <th>isFlaggedFraud</th>\n",
       "    </tr>\n",
       "  </thead>\n",
       "  <tbody>\n",
       "    <tr>\n",
       "      <th>2</th>\n",
       "      <td>1</td>\n",
       "      <td>TRANSFER</td>\n",
       "      <td>181.00</td>\n",
       "      <td>C1305486145</td>\n",
       "      <td>181.00</td>\n",
       "      <td>0.0</td>\n",
       "      <td>C553264065</td>\n",
       "      <td>0.00</td>\n",
       "      <td>0.00</td>\n",
       "      <td>1</td>\n",
       "      <td>0</td>\n",
       "    </tr>\n",
       "    <tr>\n",
       "      <th>19</th>\n",
       "      <td>1</td>\n",
       "      <td>TRANSFER</td>\n",
       "      <td>215310.30</td>\n",
       "      <td>C1670993182</td>\n",
       "      <td>705.00</td>\n",
       "      <td>0.0</td>\n",
       "      <td>C1100439041</td>\n",
       "      <td>22425.00</td>\n",
       "      <td>0.00</td>\n",
       "      <td>0</td>\n",
       "      <td>0</td>\n",
       "    </tr>\n",
       "    <tr>\n",
       "      <th>24</th>\n",
       "      <td>1</td>\n",
       "      <td>TRANSFER</td>\n",
       "      <td>311685.89</td>\n",
       "      <td>C1984094095</td>\n",
       "      <td>10835.00</td>\n",
       "      <td>0.0</td>\n",
       "      <td>C932583850</td>\n",
       "      <td>6267.00</td>\n",
       "      <td>2719172.89</td>\n",
       "      <td>0</td>\n",
       "      <td>0</td>\n",
       "    </tr>\n",
       "    <tr>\n",
       "      <th>58</th>\n",
       "      <td>1</td>\n",
       "      <td>TRANSFER</td>\n",
       "      <td>62610.80</td>\n",
       "      <td>C1976401987</td>\n",
       "      <td>79114.00</td>\n",
       "      <td>16503.2</td>\n",
       "      <td>C1937962514</td>\n",
       "      <td>517.00</td>\n",
       "      <td>8383.29</td>\n",
       "      <td>0</td>\n",
       "      <td>0</td>\n",
       "    </tr>\n",
       "    <tr>\n",
       "      <th>78</th>\n",
       "      <td>1</td>\n",
       "      <td>TRANSFER</td>\n",
       "      <td>42712.39</td>\n",
       "      <td>C283039401</td>\n",
       "      <td>10363.39</td>\n",
       "      <td>0.0</td>\n",
       "      <td>C1330106945</td>\n",
       "      <td>57901.66</td>\n",
       "      <td>24044.18</td>\n",
       "      <td>0</td>\n",
       "      <td>0</td>\n",
       "    </tr>\n",
       "    <tr>\n",
       "      <th>79</th>\n",
       "      <td>1</td>\n",
       "      <td>TRANSFER</td>\n",
       "      <td>77957.68</td>\n",
       "      <td>C207471778</td>\n",
       "      <td>0.00</td>\n",
       "      <td>0.0</td>\n",
       "      <td>C1761291320</td>\n",
       "      <td>94900.00</td>\n",
       "      <td>22233.65</td>\n",
       "      <td>0</td>\n",
       "      <td>0</td>\n",
       "    </tr>\n",
       "    <tr>\n",
       "      <th>80</th>\n",
       "      <td>1</td>\n",
       "      <td>TRANSFER</td>\n",
       "      <td>17231.46</td>\n",
       "      <td>C1243171897</td>\n",
       "      <td>0.00</td>\n",
       "      <td>0.0</td>\n",
       "      <td>C783286238</td>\n",
       "      <td>24672.00</td>\n",
       "      <td>0.00</td>\n",
       "      <td>0</td>\n",
       "      <td>0</td>\n",
       "    </tr>\n",
       "    <tr>\n",
       "      <th>81</th>\n",
       "      <td>1</td>\n",
       "      <td>TRANSFER</td>\n",
       "      <td>78766.03</td>\n",
       "      <td>C1376151044</td>\n",
       "      <td>0.00</td>\n",
       "      <td>0.0</td>\n",
       "      <td>C1749186397</td>\n",
       "      <td>103772.00</td>\n",
       "      <td>277515.05</td>\n",
       "      <td>0</td>\n",
       "      <td>0</td>\n",
       "    </tr>\n",
       "    <tr>\n",
       "      <th>82</th>\n",
       "      <td>1</td>\n",
       "      <td>TRANSFER</td>\n",
       "      <td>224606.64</td>\n",
       "      <td>C873175411</td>\n",
       "      <td>0.00</td>\n",
       "      <td>0.0</td>\n",
       "      <td>C766572210</td>\n",
       "      <td>354678.92</td>\n",
       "      <td>0.00</td>\n",
       "      <td>0</td>\n",
       "      <td>0</td>\n",
       "    </tr>\n",
       "    <tr>\n",
       "      <th>83</th>\n",
       "      <td>1</td>\n",
       "      <td>TRANSFER</td>\n",
       "      <td>125872.53</td>\n",
       "      <td>C1443967876</td>\n",
       "      <td>0.00</td>\n",
       "      <td>0.0</td>\n",
       "      <td>C392292416</td>\n",
       "      <td>348512.00</td>\n",
       "      <td>3420103.09</td>\n",
       "      <td>0</td>\n",
       "      <td>0</td>\n",
       "    </tr>\n",
       "  </tbody>\n",
       "</table>\n",
       "</div>"
      ],
      "text/plain": [
       "    step      type     amount     nameOrig  oldbalanceOrg  newbalanceOrig  \\\n",
       "2      1  TRANSFER     181.00  C1305486145         181.00             0.0   \n",
       "19     1  TRANSFER  215310.30  C1670993182         705.00             0.0   \n",
       "24     1  TRANSFER  311685.89  C1984094095       10835.00             0.0   \n",
       "58     1  TRANSFER   62610.80  C1976401987       79114.00         16503.2   \n",
       "78     1  TRANSFER   42712.39   C283039401       10363.39             0.0   \n",
       "79     1  TRANSFER   77957.68   C207471778           0.00             0.0   \n",
       "80     1  TRANSFER   17231.46  C1243171897           0.00             0.0   \n",
       "81     1  TRANSFER   78766.03  C1376151044           0.00             0.0   \n",
       "82     1  TRANSFER  224606.64   C873175411           0.00             0.0   \n",
       "83     1  TRANSFER  125872.53  C1443967876           0.00             0.0   \n",
       "\n",
       "       nameDest  oldbalanceDest  newbalanceDest  isFraud  isFlaggedFraud  \n",
       "2    C553264065            0.00            0.00        1               0  \n",
       "19  C1100439041        22425.00            0.00        0               0  \n",
       "24   C932583850         6267.00      2719172.89        0               0  \n",
       "58  C1937962514          517.00         8383.29        0               0  \n",
       "78  C1330106945        57901.66        24044.18        0               0  \n",
       "79  C1761291320        94900.00        22233.65        0               0  \n",
       "80   C783286238        24672.00            0.00        0               0  \n",
       "81  C1749186397       103772.00       277515.05        0               0  \n",
       "82   C766572210       354678.92            0.00        0               0  \n",
       "83   C392292416       348512.00      3420103.09        0               0  "
      ]
     },
     "execution_count": 23,
     "metadata": {},
     "output_type": "execute_result"
    }
   ],
   "source": [
    "# defining a dataset containing only transfer type of transactions\n",
    "\n",
    "dataTransfer = data.loc[data['type'] == 'TRANSFER']\n",
    "\n",
    "dataTransfer = pd.DataFrame(dataTransfer)\n",
    "\n",
    "dataTransfer.head(10)"
   ]
  },
  {
   "cell_type": "code",
   "execution_count": 32,
   "metadata": {
    "colab": {
     "base_uri": "https://localhost:8080/",
     "height": 34
    },
    "colab_type": "code",
    "id": "Swyn0RcoYb0P",
    "outputId": "b59b1fa0-e566-494e-a603-360d3cafaa3b"
   },
   "outputs": [
    {
     "data": {
      "text/plain": [
       "(2770409, 11)"
      ]
     },
     "execution_count": 32,
     "metadata": {},
     "output_type": "execute_result"
    }
   ],
   "source": [
    "# making dependent and independent sets\n",
    "\n",
    "X = data.loc[(data.type == 'TRANSFER') | (data.type == 'CASH_OUT')]\n",
    "\n",
    "# shape of x\n",
    "X.shape\n"
   ]
  },
  {
   "cell_type": "code",
   "execution_count": 33,
   "metadata": {
    "colab": {
     "base_uri": "https://localhost:8080/",
     "height": 204
    },
    "colab_type": "code",
    "id": "1KB6Ul7JfzO6",
    "outputId": "d92ddb43-9472-46fe-f01a-230cda12069c"
   },
   "outputs": [
    {
     "data": {
      "text/html": [
       "<div>\n",
       "<style scoped>\n",
       "    .dataframe tbody tr th:only-of-type {\n",
       "        vertical-align: middle;\n",
       "    }\n",
       "\n",
       "    .dataframe tbody tr th {\n",
       "        vertical-align: top;\n",
       "    }\n",
       "\n",
       "    .dataframe thead th {\n",
       "        text-align: right;\n",
       "    }\n",
       "</style>\n",
       "<table border=\"1\" class=\"dataframe\">\n",
       "  <thead>\n",
       "    <tr style=\"text-align: right;\">\n",
       "      <th></th>\n",
       "      <th>step</th>\n",
       "      <th>type</th>\n",
       "      <th>amount</th>\n",
       "      <th>nameOrig</th>\n",
       "      <th>oldbalanceOrg</th>\n",
       "      <th>newbalanceOrig</th>\n",
       "      <th>nameDest</th>\n",
       "      <th>oldbalanceDest</th>\n",
       "      <th>newbalanceDest</th>\n",
       "      <th>isFraud</th>\n",
       "      <th>isFlaggedFraud</th>\n",
       "    </tr>\n",
       "  </thead>\n",
       "  <tbody>\n",
       "    <tr>\n",
       "      <th>2</th>\n",
       "      <td>1</td>\n",
       "      <td>TRANSFER</td>\n",
       "      <td>181.00</td>\n",
       "      <td>C1305486145</td>\n",
       "      <td>181.0</td>\n",
       "      <td>0.0</td>\n",
       "      <td>C553264065</td>\n",
       "      <td>0.0</td>\n",
       "      <td>0.00</td>\n",
       "      <td>1</td>\n",
       "      <td>0</td>\n",
       "    </tr>\n",
       "    <tr>\n",
       "      <th>3</th>\n",
       "      <td>1</td>\n",
       "      <td>CASH_OUT</td>\n",
       "      <td>181.00</td>\n",
       "      <td>C840083671</td>\n",
       "      <td>181.0</td>\n",
       "      <td>0.0</td>\n",
       "      <td>C38997010</td>\n",
       "      <td>21182.0</td>\n",
       "      <td>0.00</td>\n",
       "      <td>1</td>\n",
       "      <td>0</td>\n",
       "    </tr>\n",
       "    <tr>\n",
       "      <th>15</th>\n",
       "      <td>1</td>\n",
       "      <td>CASH_OUT</td>\n",
       "      <td>229133.94</td>\n",
       "      <td>C905080434</td>\n",
       "      <td>15325.0</td>\n",
       "      <td>0.0</td>\n",
       "      <td>C476402209</td>\n",
       "      <td>5083.0</td>\n",
       "      <td>51513.44</td>\n",
       "      <td>0</td>\n",
       "      <td>0</td>\n",
       "    </tr>\n",
       "    <tr>\n",
       "      <th>19</th>\n",
       "      <td>1</td>\n",
       "      <td>TRANSFER</td>\n",
       "      <td>215310.30</td>\n",
       "      <td>C1670993182</td>\n",
       "      <td>705.0</td>\n",
       "      <td>0.0</td>\n",
       "      <td>C1100439041</td>\n",
       "      <td>22425.0</td>\n",
       "      <td>0.00</td>\n",
       "      <td>0</td>\n",
       "      <td>0</td>\n",
       "    </tr>\n",
       "    <tr>\n",
       "      <th>24</th>\n",
       "      <td>1</td>\n",
       "      <td>TRANSFER</td>\n",
       "      <td>311685.89</td>\n",
       "      <td>C1984094095</td>\n",
       "      <td>10835.0</td>\n",
       "      <td>0.0</td>\n",
       "      <td>C932583850</td>\n",
       "      <td>6267.0</td>\n",
       "      <td>2719172.89</td>\n",
       "      <td>0</td>\n",
       "      <td>0</td>\n",
       "    </tr>\n",
       "  </tbody>\n",
       "</table>\n",
       "</div>"
      ],
      "text/plain": [
       "    step      type     amount     nameOrig  oldbalanceOrg  newbalanceOrig  \\\n",
       "2      1  TRANSFER     181.00  C1305486145          181.0             0.0   \n",
       "3      1  CASH_OUT     181.00   C840083671          181.0             0.0   \n",
       "15     1  CASH_OUT  229133.94   C905080434        15325.0             0.0   \n",
       "19     1  TRANSFER  215310.30  C1670993182          705.0             0.0   \n",
       "24     1  TRANSFER  311685.89  C1984094095        10835.0             0.0   \n",
       "\n",
       "       nameDest  oldbalanceDest  newbalanceDest  isFraud  isFlaggedFraud  \n",
       "2    C553264065             0.0            0.00        1               0  \n",
       "3     C38997010         21182.0            0.00        1               0  \n",
       "15   C476402209          5083.0        51513.44        0               0  \n",
       "19  C1100439041         22425.0            0.00        0               0  \n",
       "24   C932583850          6267.0      2719172.89        0               0  "
      ]
     },
     "execution_count": 33,
     "metadata": {},
     "output_type": "execute_result"
    }
   ],
   "source": [
    "X.head()"
   ]
  },
  {
   "cell_type": "code",
   "execution_count": 34,
   "metadata": {
    "colab": {
     "base_uri": "https://localhost:8080/",
     "height": 221
    },
    "colab_type": "code",
    "id": "sRTYxQjokzwV",
    "outputId": "db27b405-3377-436e-a334-59584872cf71"
   },
   "outputs": [
    {
     "name": "stderr",
     "output_type": "stream",
     "text": [
      "<ipython-input-34-f0384320cda1>:3: SettingWithCopyWarning: \n",
      "A value is trying to be set on a copy of a slice from a DataFrame.\n",
      "Try using .loc[row_indexer,col_indexer] = value instead\n",
      "\n",
      "See the caveats in the documentation: https://pandas.pydata.org/pandas-docs/stable/user_guide/indexing.html#returning-a-view-versus-a-copy\n",
      "  X['errorBalanceOrig'] = X.newbalanceOrig + X.amount - X.oldbalanceOrg\n",
      "<ipython-input-34-f0384320cda1>:4: SettingWithCopyWarning: \n",
      "A value is trying to be set on a copy of a slice from a DataFrame.\n",
      "Try using .loc[row_indexer,col_indexer] = value instead\n",
      "\n",
      "See the caveats in the documentation: https://pandas.pydata.org/pandas-docs/stable/user_guide/indexing.html#returning-a-view-versus-a-copy\n",
      "  X['errorBalanceDest'] = X.oldbalanceDest + X.amount - X.newbalanceDest\n"
     ]
    }
   ],
   "source": [
    "# feature engg.\n",
    "\n",
    "X['errorBalanceOrig'] = X.newbalanceOrig + X.amount - X.oldbalanceOrg\n",
    "X['errorBalanceDest'] = X.oldbalanceDest + X.amount - X.newbalanceDest"
   ]
  },
  {
   "cell_type": "code",
   "execution_count": 35,
   "metadata": {
    "colab": {
     "base_uri": "https://localhost:8080/",
     "height": 34
    },
    "colab_type": "code",
    "id": "34OwpsU-bd7g",
    "outputId": "5c29e18b-203a-4dd3-bae7-8b2831103436"
   },
   "outputs": [
    {
     "data": {
      "text/plain": [
       "(2770409, 11)"
      ]
     },
     "execution_count": 35,
     "metadata": {},
     "output_type": "execute_result"
    }
   ],
   "source": [
    "# removing unwanted columns\n",
    "\n",
    "X = X.drop(['nameDest','nameOrig'], axis = 1)\n",
    "\n",
    "# checking the new shape of data\n",
    "X.shape"
   ]
  },
  {
   "cell_type": "code",
   "execution_count": 36,
   "metadata": {
    "colab": {},
    "colab_type": "code",
    "id": "DytlE02Ranrg"
   },
   "outputs": [],
   "source": [
    "# label encoding for the transaction type\n",
    "\n",
    "X['type'].replace('TRANSFER', 0, inplace = True)\n",
    "X['type'].replace('CASH_OUT', 1, inplace = True)"
   ]
  },
  {
   "cell_type": "code",
   "execution_count": 37,
   "metadata": {
    "colab": {
     "base_uri": "https://localhost:8080/",
     "height": 359
    },
    "colab_type": "code",
    "id": "ULp8vvi0akTE",
    "outputId": "09389b29-e297-47ac-bb00-bf461211dcef"
   },
   "outputs": [
    {
     "data": {
      "text/html": [
       "<div>\n",
       "<style scoped>\n",
       "    .dataframe tbody tr th:only-of-type {\n",
       "        vertical-align: middle;\n",
       "    }\n",
       "\n",
       "    .dataframe tbody tr th {\n",
       "        vertical-align: top;\n",
       "    }\n",
       "\n",
       "    .dataframe thead th {\n",
       "        text-align: right;\n",
       "    }\n",
       "</style>\n",
       "<table border=\"1\" class=\"dataframe\">\n",
       "  <thead>\n",
       "    <tr style=\"text-align: right;\">\n",
       "      <th></th>\n",
       "      <th>step</th>\n",
       "      <th>type</th>\n",
       "      <th>amount</th>\n",
       "      <th>oldbalanceOrg</th>\n",
       "      <th>newbalanceOrig</th>\n",
       "      <th>oldbalanceDest</th>\n",
       "      <th>newbalanceDest</th>\n",
       "      <th>isFraud</th>\n",
       "      <th>isFlaggedFraud</th>\n",
       "      <th>errorBalanceOrig</th>\n",
       "      <th>errorBalanceDest</th>\n",
       "    </tr>\n",
       "  </thead>\n",
       "  <tbody>\n",
       "    <tr>\n",
       "      <th>2</th>\n",
       "      <td>1</td>\n",
       "      <td>0</td>\n",
       "      <td>181.00</td>\n",
       "      <td>181.00</td>\n",
       "      <td>0.0</td>\n",
       "      <td>0.0</td>\n",
       "      <td>0.00</td>\n",
       "      <td>1</td>\n",
       "      <td>0</td>\n",
       "      <td>0.00</td>\n",
       "      <td>181.00</td>\n",
       "    </tr>\n",
       "    <tr>\n",
       "      <th>3</th>\n",
       "      <td>1</td>\n",
       "      <td>1</td>\n",
       "      <td>181.00</td>\n",
       "      <td>181.00</td>\n",
       "      <td>0.0</td>\n",
       "      <td>21182.0</td>\n",
       "      <td>0.00</td>\n",
       "      <td>1</td>\n",
       "      <td>0</td>\n",
       "      <td>0.00</td>\n",
       "      <td>21363.00</td>\n",
       "    </tr>\n",
       "    <tr>\n",
       "      <th>15</th>\n",
       "      <td>1</td>\n",
       "      <td>1</td>\n",
       "      <td>229133.94</td>\n",
       "      <td>15325.00</td>\n",
       "      <td>0.0</td>\n",
       "      <td>5083.0</td>\n",
       "      <td>51513.44</td>\n",
       "      <td>0</td>\n",
       "      <td>0</td>\n",
       "      <td>213808.94</td>\n",
       "      <td>182703.50</td>\n",
       "    </tr>\n",
       "    <tr>\n",
       "      <th>19</th>\n",
       "      <td>1</td>\n",
       "      <td>0</td>\n",
       "      <td>215310.30</td>\n",
       "      <td>705.00</td>\n",
       "      <td>0.0</td>\n",
       "      <td>22425.0</td>\n",
       "      <td>0.00</td>\n",
       "      <td>0</td>\n",
       "      <td>0</td>\n",
       "      <td>214605.30</td>\n",
       "      <td>237735.30</td>\n",
       "    </tr>\n",
       "    <tr>\n",
       "      <th>24</th>\n",
       "      <td>1</td>\n",
       "      <td>0</td>\n",
       "      <td>311685.89</td>\n",
       "      <td>10835.00</td>\n",
       "      <td>0.0</td>\n",
       "      <td>6267.0</td>\n",
       "      <td>2719172.89</td>\n",
       "      <td>0</td>\n",
       "      <td>0</td>\n",
       "      <td>300850.89</td>\n",
       "      <td>-2401220.00</td>\n",
       "    </tr>\n",
       "    <tr>\n",
       "      <th>42</th>\n",
       "      <td>1</td>\n",
       "      <td>1</td>\n",
       "      <td>110414.71</td>\n",
       "      <td>26845.41</td>\n",
       "      <td>0.0</td>\n",
       "      <td>288800.0</td>\n",
       "      <td>2415.16</td>\n",
       "      <td>0</td>\n",
       "      <td>0</td>\n",
       "      <td>83569.30</td>\n",
       "      <td>396799.55</td>\n",
       "    </tr>\n",
       "    <tr>\n",
       "      <th>47</th>\n",
       "      <td>1</td>\n",
       "      <td>1</td>\n",
       "      <td>56953.90</td>\n",
       "      <td>1942.02</td>\n",
       "      <td>0.0</td>\n",
       "      <td>70253.0</td>\n",
       "      <td>64106.18</td>\n",
       "      <td>0</td>\n",
       "      <td>0</td>\n",
       "      <td>55011.88</td>\n",
       "      <td>63100.72</td>\n",
       "    </tr>\n",
       "    <tr>\n",
       "      <th>48</th>\n",
       "      <td>1</td>\n",
       "      <td>1</td>\n",
       "      <td>5346.89</td>\n",
       "      <td>0.00</td>\n",
       "      <td>0.0</td>\n",
       "      <td>652637.0</td>\n",
       "      <td>6453430.91</td>\n",
       "      <td>0</td>\n",
       "      <td>0</td>\n",
       "      <td>5346.89</td>\n",
       "      <td>-5795447.02</td>\n",
       "    </tr>\n",
       "    <tr>\n",
       "      <th>51</th>\n",
       "      <td>1</td>\n",
       "      <td>1</td>\n",
       "      <td>23261.30</td>\n",
       "      <td>20411.53</td>\n",
       "      <td>0.0</td>\n",
       "      <td>25742.0</td>\n",
       "      <td>0.00</td>\n",
       "      <td>0</td>\n",
       "      <td>0</td>\n",
       "      <td>2849.77</td>\n",
       "      <td>49003.30</td>\n",
       "    </tr>\n",
       "    <tr>\n",
       "      <th>58</th>\n",
       "      <td>1</td>\n",
       "      <td>0</td>\n",
       "      <td>62610.80</td>\n",
       "      <td>79114.00</td>\n",
       "      <td>16503.2</td>\n",
       "      <td>517.0</td>\n",
       "      <td>8383.29</td>\n",
       "      <td>0</td>\n",
       "      <td>0</td>\n",
       "      <td>0.00</td>\n",
       "      <td>54744.51</td>\n",
       "    </tr>\n",
       "  </tbody>\n",
       "</table>\n",
       "</div>"
      ],
      "text/plain": [
       "    step  type     amount  oldbalanceOrg  newbalanceOrig  oldbalanceDest  \\\n",
       "2      1     0     181.00         181.00             0.0             0.0   \n",
       "3      1     1     181.00         181.00             0.0         21182.0   \n",
       "15     1     1  229133.94       15325.00             0.0          5083.0   \n",
       "19     1     0  215310.30         705.00             0.0         22425.0   \n",
       "24     1     0  311685.89       10835.00             0.0          6267.0   \n",
       "42     1     1  110414.71       26845.41             0.0        288800.0   \n",
       "47     1     1   56953.90        1942.02             0.0         70253.0   \n",
       "48     1     1    5346.89           0.00             0.0        652637.0   \n",
       "51     1     1   23261.30       20411.53             0.0         25742.0   \n",
       "58     1     0   62610.80       79114.00         16503.2           517.0   \n",
       "\n",
       "    newbalanceDest  isFraud  isFlaggedFraud  errorBalanceOrig  \\\n",
       "2             0.00        1               0              0.00   \n",
       "3             0.00        1               0              0.00   \n",
       "15        51513.44        0               0         213808.94   \n",
       "19            0.00        0               0         214605.30   \n",
       "24      2719172.89        0               0         300850.89   \n",
       "42         2415.16        0               0          83569.30   \n",
       "47        64106.18        0               0          55011.88   \n",
       "48      6453430.91        0               0           5346.89   \n",
       "51            0.00        0               0           2849.77   \n",
       "58         8383.29        0               0              0.00   \n",
       "\n",
       "    errorBalanceDest  \n",
       "2             181.00  \n",
       "3           21363.00  \n",
       "15         182703.50  \n",
       "19         237735.30  \n",
       "24       -2401220.00  \n",
       "42         396799.55  \n",
       "47          63100.72  \n",
       "48       -5795447.02  \n",
       "51          49003.30  \n",
       "58          54744.51  "
      ]
     },
     "execution_count": 37,
     "metadata": {},
     "output_type": "execute_result"
    }
   ],
   "source": [
    "# looking at the head of the data\n",
    "\n",
    "X.head(10)"
   ]
  },
  {
   "cell_type": "code",
   "execution_count": 38,
   "metadata": {
    "colab": {
     "base_uri": "https://localhost:8080/",
     "height": 34
    },
    "colab_type": "code",
    "id": "blsBnEPIbnno",
    "outputId": "73f83b39-6916-4348-81eb-fc0741219788"
   },
   "outputs": [
    {
     "data": {
      "text/plain": [
       "False"
      ]
     },
     "execution_count": 38,
     "metadata": {},
     "output_type": "execute_result"
    }
   ],
   "source": [
    "# checking if the dataset contains any NULL values\n",
    "\n",
    "X.isnull().any().any()"
   ]
  },
  {
   "cell_type": "code",
   "execution_count": 39,
   "metadata": {
    "colab": {
     "base_uri": "https://localhost:8080/",
     "height": 514
    },
    "colab_type": "code",
    "id": "UStokQz1mDrQ",
    "outputId": "bca5d819-68a7-46f9-df16-ec673758f386"
   },
   "outputs": [
    {
     "name": "stderr",
     "output_type": "stream",
     "text": [
      "C:\\Users\\Chinmay.CHINMAY\\anaconda3\\lib\\site-packages\\seaborn\\distributions.py:2557: FutureWarning: `distplot` is a deprecated function and will be removed in a future version. Please adapt your code to use either `displot` (a figure-level function with similar flexibility) or `histplot` (an axes-level function for histograms).\n",
      "  warnings.warn(msg, FutureWarning)\n",
      "C:\\Users\\Chinmay.CHINMAY\\anaconda3\\lib\\site-packages\\seaborn\\distributions.py:2557: FutureWarning: `distplot` is a deprecated function and will be removed in a future version. Please adapt your code to use either `displot` (a figure-level function with similar flexibility) or `histplot` (an axes-level function for histograms).\n",
      "  warnings.warn(msg, FutureWarning)\n"
     ]
    },
    {
     "data": {
      "image/png": "[encoded data removed]",
      "text/plain": [
       "<Figure size 1512x504 with 2 Axes>"
      ]
     },
     "metadata": {},
     "output_type": "display_data"
    }
   ],
   "source": [
    "# visualizing the distribution of errorbalance\n",
    "\n",
    "# setting the size of the plot\n",
    "plt.rcParams['figure.figsize'] = (21, 7)\n",
    "\n",
    "plt.subplot(121)\n",
    "sns.distplot(X['errorBalanceOrig'], color = 'red')\n",
    "plt.title('Error Balance of Origin', fontsize = 20)\n",
    "\n",
    "plt.subplot(122)\n",
    "sns.distplot(X['errorBalanceDest'], color = 'red')\n",
    "plt.title('Error Balance of Destination', fontsize = 20)\n",
    "\n",
    "plt.show()"
   ]
  },
  {
   "cell_type": "code",
   "execution_count": 41,
   "metadata": {
    "colab": {
     "base_uri": "https://localhost:8080/",
     "height": 432
    },
    "colab_type": "code",
    "id": "clj18Au6cNDB",
    "outputId": "5ee322e9-f1fb-4dc4-ef43-e01118a7e1ee"
   },
   "outputs": [
    {
     "data": {
      "image/png": "[encoded data removed]",
      "text/plain": [
       "<Figure size 1512x504 with 1 Axes>"
      ]
     },
     "metadata": {},
     "output_type": "display_data"
    }
   ],
   "source": [
    "# checking the no. of frauds in the dataset\n",
    "\n",
    "X['isFraud'].value_counts()\n",
    "\n",
    "# plotting a pie chart to represent the percentage of the frauds \n",
    "\n",
    "size = [2762196, 8213]\n",
    "labels = ['NON-FRAUD', 'FRAUD']\n",
    "colors = ['lightblue', 'yellow']\n",
    "explode = [0, 0.2]\n",
    "\n",
    "plt.pie(size, labels = labels, colors = colors, explode = explode, shadow  = True, autopct = '%.2f%%')\n",
    "plt.title('Frauds v/s Non-Frauds', fontsize = 20)\n",
    "plt.axis('off')\n",
    "plt.legend()\n",
    "plt.show()"
   ]
  },
  {
   "cell_type": "code",
   "execution_count": 42,
   "metadata": {
    "colab": {
     "base_uri": "https://localhost:8080/",
     "height": 68
    },
    "colab_type": "code",
    "id": "2QI2zZm-fpTI",
    "outputId": "63fb2f7f-d809-4cbd-ff05-fccb9eddbb9d"
   },
   "outputs": [
    {
     "data": {
      "text/plain": [
       "0    2762196\n",
       "1       8213\n",
       "Name: isFraud, dtype: int64"
      ]
     },
     "execution_count": 42,
     "metadata": {},
     "output_type": "execute_result"
    }
   ],
   "source": [
    "X['isFraud'].value_counts()"
   ]
  },
  {
   "cell_type": "code",
   "execution_count": 43,
   "metadata": {
    "colab": {
     "base_uri": "https://localhost:8080/",
     "height": 51
    },
    "colab_type": "code",
    "id": "6Vpus-psqJ6o",
    "outputId": "544f4c00-2422-4c89-d3fe-344c103c4fb8"
   },
   "outputs": [
    {
     "name": "stdout",
     "output_type": "stream",
     "text": [
      "Shape of x:  (2770409, 10)\n",
      "Shape of y:  (2770409,)\n"
     ]
    }
   ],
   "source": [
    "#Creating an independent dataset\n",
    "\n",
    "Y = X['isFraud']\n",
    "\n",
    "# removing the dependent set\n",
    "X = X.drop(['isFraud'], axis = 1)\n",
    "\n",
    "# getting the shapes of x and y\n",
    "print(\"Shape of x: \", X.shape)\n",
    "print(\"Shape of y: \", Y.shape)\n"
   ]
  },
  {
   "cell_type": "code",
   "execution_count": 44,
   "metadata": {
    "colab": {
     "base_uri": "https://localhost:8080/",
     "height": 204
    },
    "colab_type": "code",
    "id": "g_Cy6QDirCNl",
    "outputId": "46c92ba0-9868-41d3-c14c-2764b596d59d"
   },
   "outputs": [
    {
     "data": {
      "text/html": [
       "<div>\n",
       "<style scoped>\n",
       "    .dataframe tbody tr th:only-of-type {\n",
       "        vertical-align: middle;\n",
       "    }\n",
       "\n",
       "    .dataframe tbody tr th {\n",
       "        vertical-align: top;\n",
       "    }\n",
       "\n",
       "    .dataframe thead th {\n",
       "        text-align: right;\n",
       "    }\n",
       "</style>\n",
       "<table border=\"1\" class=\"dataframe\">\n",
       "  <thead>\n",
       "    <tr style=\"text-align: right;\">\n",
       "      <th></th>\n",
       "      <th>step</th>\n",
       "      <th>type</th>\n",
       "      <th>amount</th>\n",
       "      <th>oldbalanceOrg</th>\n",
       "      <th>newbalanceOrig</th>\n",
       "      <th>oldbalanceDest</th>\n",
       "      <th>newbalanceDest</th>\n",
       "      <th>isFlaggedFraud</th>\n",
       "      <th>errorBalanceOrig</th>\n",
       "      <th>errorBalanceDest</th>\n",
       "    </tr>\n",
       "  </thead>\n",
       "  <tbody>\n",
       "    <tr>\n",
       "      <th>2</th>\n",
       "      <td>1</td>\n",
       "      <td>0</td>\n",
       "      <td>181.00</td>\n",
       "      <td>181.0</td>\n",
       "      <td>0.0</td>\n",
       "      <td>0.0</td>\n",
       "      <td>0.00</td>\n",
       "      <td>0</td>\n",
       "      <td>0.00</td>\n",
       "      <td>181.0</td>\n",
       "    </tr>\n",
       "    <tr>\n",
       "      <th>3</th>\n",
       "      <td>1</td>\n",
       "      <td>1</td>\n",
       "      <td>181.00</td>\n",
       "      <td>181.0</td>\n",
       "      <td>0.0</td>\n",
       "      <td>21182.0</td>\n",
       "      <td>0.00</td>\n",
       "      <td>0</td>\n",
       "      <td>0.00</td>\n",
       "      <td>21363.0</td>\n",
       "    </tr>\n",
       "    <tr>\n",
       "      <th>15</th>\n",
       "      <td>1</td>\n",
       "      <td>1</td>\n",
       "      <td>229133.94</td>\n",
       "      <td>15325.0</td>\n",
       "      <td>0.0</td>\n",
       "      <td>5083.0</td>\n",
       "      <td>51513.44</td>\n",
       "      <td>0</td>\n",
       "      <td>213808.94</td>\n",
       "      <td>182703.5</td>\n",
       "    </tr>\n",
       "    <tr>\n",
       "      <th>19</th>\n",
       "      <td>1</td>\n",
       "      <td>0</td>\n",
       "      <td>215310.30</td>\n",
       "      <td>705.0</td>\n",
       "      <td>0.0</td>\n",
       "      <td>22425.0</td>\n",
       "      <td>0.00</td>\n",
       "      <td>0</td>\n",
       "      <td>214605.30</td>\n",
       "      <td>237735.3</td>\n",
       "    </tr>\n",
       "    <tr>\n",
       "      <th>24</th>\n",
       "      <td>1</td>\n",
       "      <td>0</td>\n",
       "      <td>311685.89</td>\n",
       "      <td>10835.0</td>\n",
       "      <td>0.0</td>\n",
       "      <td>6267.0</td>\n",
       "      <td>2719172.89</td>\n",
       "      <td>0</td>\n",
       "      <td>300850.89</td>\n",
       "      <td>-2401220.0</td>\n",
       "    </tr>\n",
       "  </tbody>\n",
       "</table>\n",
       "</div>"
      ],
      "text/plain": [
       "    step  type     amount  oldbalanceOrg  newbalanceOrig  oldbalanceDest  \\\n",
       "2      1     0     181.00          181.0             0.0             0.0   \n",
       "3      1     1     181.00          181.0             0.0         21182.0   \n",
       "15     1     1  229133.94        15325.0             0.0          5083.0   \n",
       "19     1     0  215310.30          705.0             0.0         22425.0   \n",
       "24     1     0  311685.89        10835.0             0.0          6267.0   \n",
       "\n",
       "    newbalanceDest  isFlaggedFraud  errorBalanceOrig  errorBalanceDest  \n",
       "2             0.00               0              0.00             181.0  \n",
       "3             0.00               0              0.00           21363.0  \n",
       "15        51513.44               0         213808.94          182703.5  \n",
       "19            0.00               0         214605.30          237735.3  \n",
       "24      2719172.89               0         300850.89        -2401220.0  "
      ]
     },
     "execution_count": 44,
     "metadata": {},
     "output_type": "execute_result"
    }
   ],
   "source": [
    "X.head()"
   ]
  },
  {
   "cell_type": "markdown",
   "metadata": {
    "colab_type": "text",
    "id": "7Ez0xcQQpbGf"
   },
   "source": [
    "**OVER-SAMPLING**"
   ]
  },
  {
   "cell_type": "code",
   "execution_count": 45,
   "metadata": {
    "colab": {
     "base_uri": "https://localhost:8080/",
     "height": 51
    },
    "colab_type": "code",
    "id": "sCEGR_C5peLj",
    "outputId": "35d2baaf-d3c1-4b29-8b2d-c80b4fa77a30"
   },
   "outputs": [
    {
     "name": "stdout",
     "output_type": "stream",
     "text": [
      "Shape of x:  (5524392, 10)\n",
      "Shape of y: (5524392,)\n"
     ]
    }
   ],
   "source": [
    "from imblearn.over_sampling import SMOTE\n",
    "\n",
    "x_resample, y_resample = SMOTE().fit_sample(X, Y.values.ravel())\n",
    "\n",
    "# getting the shapes of x and y after resampling\n",
    "print(\"Shape of x: \", x_resample.shape)\n",
    "print(\"Shape of y:\", y_resample.shape)"
   ]
  },
  {
   "cell_type": "code",
   "execution_count": 46,
   "metadata": {
    "colab": {
     "base_uri": "https://localhost:8080/",
     "height": 85
    },
    "colab_type": "code",
    "id": "up74lZw7q9O_",
    "outputId": "4a72cae0-81ca-44c0-91a5-b3498fe2952c"
   },
   "outputs": [
    {
     "name": "stdout",
     "output_type": "stream",
     "text": [
      "Shape of x_train:  (4419513, 10)\n",
      "Shape of x_test:  (1104879, 10)\n",
      "Shape of y_train:  (4419513,)\n",
      "Shape of y_test:  (1104879,)\n"
     ]
    }
   ],
   "source": [
    "# splitting the dataset into train and test\n",
    "\n",
    "from sklearn.model_selection import train_test_split\n",
    "\n",
    "x_train, x_test, y_train, y_test = train_test_split(x_resample, y_resample, test_size = 0.2, random_state = 0)\n",
    "\n",
    "# checking the new shapes\n",
    "print(\"Shape of x_train: \", x_train.shape)\n",
    "print(\"Shape of x_test: \", x_test.shape)\n",
    "print(\"Shape of y_train: \", y_train.shape)\n",
    "print(\"Shape of y_test: \", y_test.shape)"
   ]
  },
  {
   "cell_type": "code",
   "execution_count": 47,
   "metadata": {
    "colab": {},
    "colab_type": "code",
    "id": "fHAgbVICsQA3"
   },
   "outputs": [],
   "source": [
    "# performing standard scaling on the data for better fit\n",
    "\n",
    "from sklearn.preprocessing import StandardScaler\n",
    "\n",
    "sc = StandardScaler()\n",
    "\n",
    "x_train = sc.fit_transform(x_train)\n",
    "x_test = sc.transform(x_test)"
   ]
  },
  {
   "cell_type": "markdown",
   "metadata": {
    "colab_type": "text",
    "id": "FqMGTIUIsk4Z"
   },
   "source": [
    "# using XG-Boost Model"
   ]
  },
  {
   "cell_type": "code",
   "execution_count": 57,
   "metadata": {
    "colab": {
     "base_uri": "https://localhost:8080/",
     "height": 34
    },
    "colab_type": "code",
    "id": "iNJvDr7EskBB",
    "outputId": "4a42e9a5-a912-4435-fe46-9699d5eef564"
   },
   "outputs": [
    {
     "name": "stdout",
     "output_type": "stream",
     "text": [
      "The Area under Precision Recall Curve Score is 0.9993718449586333\n"
     ]
    }
   ],
   "source": [
    "# Using XGBOOST\n",
    "\n",
    "\n",
    "import xgboost as xgb\n",
    "from xgboost.sklearn import XGBClassifier\n",
    "from sklearn.metrics import average_precision_score\n",
    "\n",
    "model = XGBClassifier(use_label_encoder=False, eval_metric='mlogloss')\n",
    "model.fit(x_train, y_train)\n",
    "\n",
    "y_pred = model.predict(x_test)\n",
    "\n",
    "# score of the model\n",
    "auprc = average_precision_score(y_test, y_pred)\n",
    "print(\"The Area under Precision Recall Curve Score is\", auprc)"
   ]
  },
  {
   "cell_type": "code",
   "execution_count": 58,
   "metadata": {
    "colab": {
     "base_uri": "https://localhost:8080/",
     "height": 51
    },
    "colab_type": "code",
    "id": "sHsOfexItVO7",
    "outputId": "d6b135ee-a2aa-4284-d3e5-d0178a7320d8"
   },
   "outputs": [
    {
     "name": "stdout",
     "output_type": "stream",
     "text": [
      "[[552911    209]\n",
      " [   275 551484]]\n"
     ]
    }
   ],
   "source": [
    "#Print confusion matrix\n",
    "\n",
    "from sklearn.metrics import confusion_matrix\n",
    "\n",
    "cfm = confusion_matrix(y_test, y_pred)\n",
    "\n",
    "print(cfm)"
   ]
  },
  {
   "cell_type": "code",
   "execution_count": null,
   "metadata": {
    "colab": {},
    "colab_type": "code",
    "id": "3tGSbarit_x4"
   },
   "outputs": [],
   "source": []
  }
 ],
 "metadata": {
  "colab": {
   "collapsed_sections": [],
   "include_colab_link": true,
   "name": "Fraud detection in financial payment services.ipynb",
   "provenance": [],
   "version": "0.3.2"
  },
  "kernelspec": {
   "display_name": "Python 3",
   "language": "python",
   "name": "python3"
  },
  "language_info": {
   "codemirror_mode": {
    "name": "ipython",
    "version": 3
   },
   "file_extension": ".py",
   "mimetype": "text/x-python",
   "name": "python",
   "nbconvert_exporter": "python",
   "pygments_lexer": "ipython3",
   "version": "3.8.8"
  }
 },
 "nbformat": 4,
 "nbformat_minor": 1
}
